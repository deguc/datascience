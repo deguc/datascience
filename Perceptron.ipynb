{
  "nbformat": 4,
  "nbformat_minor": 0,
  "metadata": {
    "colab": {
      "provenance": [],
      "authorship_tag": "ABX9TyNu5Jjb1H22rrCsTO+bYdCS",
      "include_colab_link": true
    },
    "kernelspec": {
      "name": "python3",
      "display_name": "Python 3"
    },
    "language_info": {
      "name": "python"
    }
  },
  "cells": [
    {
      "cell_type": "markdown",
      "metadata": {
        "id": "view-in-github",
        "colab_type": "text"
      },
      "source": [
        "<a href=\"https://colab.research.google.com/github/deguc/datascience/blob/main/Perceptron.ipynb\" target=\"_parent\"><img src=\"https://colab.research.google.com/assets/colab-badge.svg\" alt=\"Open In Colab\"/></a>"
      ]
    },
    {
      "cell_type": "code",
      "execution_count": null,
      "metadata": {
        "colab": {
          "base_uri": "https://localhost:8080/"
        },
        "id": "3uZk_1xRAf_B",
        "outputId": "98f49332-15d7-4d56-89b9-d5821b9127f5"
      },
      "outputs": [
        {
          "output_type": "stream",
          "name": "stdout",
          "text": [
            "[0 1 1 1]\n"
          ]
        }
      ],
      "source": [
        "import numpy as np\n",
        "\n",
        "class Perceptron:\n",
        "\n",
        "  def __init__(self):   \n",
        "\n",
        "    #コンストラクタ\n",
        "    \n",
        "    self.W=np.random.randn(2,1)   #重みの初期化\n",
        "    self.b=0      #バイアスの初期化\n",
        "\n",
        "    self.X=None   #入力データの保存\n",
        "\n",
        "  def forward(self,X):    \n",
        "    \n",
        "    #順伝播\n",
        "    \n",
        "    a=np.matmul(X,self.W)+self.b  #アフィン変換\n",
        "    \n",
        "    self.X=X  #入力データを保存\n",
        "\n",
        "    y=(a>0)*1 #ステップ関数\n",
        "\n",
        "    return y\n",
        "  \n",
        "  def backward(self,delta):\n",
        "\n",
        "    #逆伝播\n",
        "\n",
        "    #勾配を計算\n",
        "    dW=np.matmul(self.X.T,delta)\n",
        "    db=np.sum(delta,axis=0)\n",
        "\n",
        "    #重みとバイアスの更新\n",
        "    self.W-=0.1*dW\n",
        "    self.b-=0.1*db\n",
        "    return None\n",
        "\n",
        "  def fit(self,X,t,epochs=100):\n",
        "\n",
        "    #学習\n",
        "\n",
        "    for __ in range(epochs):\n",
        "      y=self.forward(X)   #予測\n",
        "      delta=y-t           #誤差\n",
        "      self.backward(delta)  #重みとバイアスを更新\n",
        "    \n",
        "    return None\n",
        "\n",
        "  def __call__(self,X):\n",
        "\n",
        "    #予測\n",
        "\n",
        "    y=self.forward(X)\n",
        "\n",
        "    return y.flatten()  #(n,1)　→ (n, )\n",
        "\n",
        "\n",
        "X=np.array([[0,0],[0,1],[1,0],[1,1]])   #入力データ\n",
        "y=np.array([0,1,1,1])     #教師データ\n",
        "\n",
        "t=y.reshape(-1,1)   #学習用にデータの前処理\n",
        "\n",
        "model=Perceptron()    #インスタンス化\n",
        "\n",
        "model.fit(X,t)    #学習\n",
        "\n",
        "pred=model(X)   #学習結果の確認\n",
        "\n",
        "print(pred)"
      ]
    },
    {
      "cell_type": "code",
      "source": [
        "import matplotlib.pyplot as plt\n",
        "from matplotlib.colors import ListedColormap\n",
        "\n",
        "def decision_regions(x,y,model):\n",
        "  \n",
        "  #平面を分割する。\n",
        "  \n",
        "  #グリッドの作成\n",
        "  x1=np.arange(-0.1,1.1,0.02)   #横軸\n",
        "  x2=np.arange(-0.1,1.1,0.02)   #縦軸\n",
        "  xx1,xx2=np.meshgrid(x1,x2)    #メッシュ\n",
        "  z=np.array([xx1.ravel(),xx2.ravel()]).T   #座標点の作成\n",
        "  \n",
        "  \n",
        "  Z=model(z).reshape(xx1.shape)   #各座標点を分類する\n",
        "\n",
        "  plt.contourf(xx1,xx2,Z,alpha=0.2,cmap=ListedColormap(['red','blue'])) #平面の分割\n",
        "\n",
        "  #データをプロットする。\n",
        "  plt.scatter(x[y==0,0],x[y==0,1],c='red')\n",
        "  plt.scatter(x[y==1,0],x[y==1,1],c='blue')\n",
        "  \n",
        "#動作の確認\n",
        "decision_regions(X,y,model)\n",
        "  "
      ],
      "metadata": {
        "colab": {
          "base_uri": "https://localhost:8080/",
          "height": 265
        },
        "id": "fJgjQ1jXGbI7",
        "outputId": "4c817474-267a-453b-cb4c-8805ee0e3d31"
      },
      "execution_count": null,
      "outputs": [
        {
          "output_type": "display_data",
          "data": {
            "text/plain": [
              "<Figure size 432x288 with 1 Axes>"
            ],
            "image/png": "[encoded data removed]"
          },
          "metadata": {
            "needs_background": "light"
          }
        }
      ]
    },
    {
      "cell_type": "markdown",
      "source": [],
      "metadata": {
        "id": "plEmTDFtKIyu"
      }
    },
    {
      "cell_type": "code",
      "source": [
        "#分散したデータの作成\n",
        "\n",
        "N=10      #データのサイズ\n",
        "scale=0.05  #データのちらし方\n",
        "\n",
        "X_train=np.array([[0,0],[0,1],[1,0],[1,1]])#学習用データ\n",
        "\n",
        "#元のデータにノイズを足す。\n",
        "X1=X[0]+np.random.randn(N,2)*scale\n",
        "X2=X[1]+np.random.randn(N,2)*scale\n",
        "X3=X[2]+np.random.randn(N,2)*scale\n",
        "X4=X[3]+np.random.randn(N,2)*scale\n",
        "\n",
        "X_test=np.concatenate((X1,X2,X3,X4))   #データを結合する。\n",
        "\n",
        "#動作の確認\n",
        "y_train=np.array([0,1,1,1])   #教師用データ\n",
        "t_train=y_train.reshape(-1,1)     #前処理\n",
        "\n",
        "#教師データで学習\n",
        "model=Perceptron()\n",
        "model.fit(X_train,t_train,epochs=30)\n",
        "\n",
        "y_test=model(X_test)\n",
        "\n",
        "plt.scatter(X_test[y_test==0,0],X_test[y_test==0,1],c='red')\n",
        "plt.scatter(X_test[y_test==1,0],X_test[y_test==1,1],c='blue')\n",
        "\n",
        "plt.show()"
      ],
      "metadata": {
        "colab": {
          "base_uri": "https://localhost:8080/",
          "height": 265
        },
        "id": "lEkaTUaxKJ2a",
        "outputId": "e01409eb-881b-4bd5-fcef-62225aa1ee17"
      },
      "execution_count": null,
      "outputs": [
        {
          "output_type": "display_data",
          "data": {
            "text/plain": [
              "<Figure size 432x288 with 1 Axes>"
            ],
            "image/png": "[encoded data removed]"
          },
          "metadata": {
            "needs_background": "light"
          }
        }
      ]
    },
    {
      "cell_type": "code",
      "source": [
        "print(X[0])"
      ],
      "metadata": {
        "colab": {
          "base_uri": "https://localhost:8080/"
        },
        "id": "lDqcOedxOCzz",
        "outputId": "21eea75f-be5c-488e-cb3a-5c9583ba1ff7"
      },
      "execution_count": null,
      "outputs": [
        {
          "output_type": "stream",
          "name": "stdout",
          "text": [
            "[0 0]\n"
          ]
        }
      ]
    }
  ]
}