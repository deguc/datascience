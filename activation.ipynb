{
  "nbformat": 4,
  "nbformat_minor": 0,
  "metadata": {
    "colab": {
      "provenance": [],
      "authorship_tag": "ABX9TyNqVJMSEpcsZleC7Wc1ALYd",
      "include_colab_link": true
    },
    "kernelspec": {
      "name": "python3",
      "display_name": "Python 3"
    },
    "language_info": {
      "name": "python"
    }
  },
  "cells": [
    {
      "cell_type": "markdown",
      "metadata": {
        "id": "view-in-github",
        "colab_type": "text"
      },
      "source": [
        "<a href=\"https://colab.research.google.com/github/deguc/datascience/blob/main/activation.ipynb\" target=\"_parent\"><img src=\"https://colab.research.google.com/assets/colab-badge.svg\" alt=\"Open In Colab\"/></a>"
      ]
    },
    {
      "cell_type": "code",
      "execution_count": 4,
      "metadata": {
        "colab": {
          "base_uri": "https://localhost:8080/",
          "height": 265
        },
        "id": "2L1fFsJnYC3f",
        "outputId": "704fe46f-4d96-4eba-cf9e-1582f94b3536"
      },
      "outputs": [
        {
          "output_type": "display_data",
          "data": {
            "text/plain": [
              "<Figure size 432x288 with 1 Axes>"
            ],
            "image/png": "[encoded data removed]"
          },
          "metadata": {
            "needs_background": "light"
          }
        }
      ],
      "source": [
        "import numpy as np\n",
        "import matplotlib.pyplot as plt\n",
        "\n",
        "#活性化関数\n",
        "\n",
        "def step_func(x):   #ステップ関数\n",
        "  return (x>0)*1\n",
        "def sigmoid(x) :  #シグモイド関数\n",
        "  return 1/(1+np.exp(-x))\n",
        "def relu(x):  #ReLu\n",
        "  return np.maximum(0,x)\n",
        "\n",
        "#確認\n",
        "x=np.arange(-5,5,0.1)\n",
        "y=relu(x)    #ここを変えて確認\n",
        "plt.plot(x,y)\n",
        "plt.show()        \n",
        "\n"
      ]
    }
  ]
}