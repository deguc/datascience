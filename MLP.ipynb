{
  "nbformat": 4,
  "nbformat_minor": 0,
  "metadata": {
    "colab": {
      "provenance": [],
      "authorship_tag": "ABX9TyM4MlaGOZnC3NwGWN+VSJ7g",
      "include_colab_link": true
    },
    "kernelspec": {
      "name": "python3",
      "display_name": "Python 3"
    },
    "language_info": {
      "name": "python"
    }
  },
  "cells": [
    {
      "cell_type": "markdown",
      "metadata": {
        "id": "view-in-github",
        "colab_type": "text"
      },
      "source": [
        "<a href=\"https://colab.research.google.com/github/deguc/datascience/blob/main/MLP.ipynb\" target=\"_parent\"><img src=\"https://colab.research.google.com/assets/colab-badge.svg\" alt=\"Open In Colab\"/></a>"
      ]
    },
    {
      "cell_type": "code",
      "execution_count": 31,
      "metadata": {
        "id": "3uZk_1xRAf_B",
        "colab": {
          "base_uri": "https://localhost:8080/",
          "height": 430
        },
        "outputId": "8347e91b-386e-4e31-a493-c3465e58cc3f"
      },
      "outputs": [
        {
          "output_type": "display_data",
          "data": {
            "text/plain": [
              "<Figure size 640x480 with 1 Axes>"
            ],
            "image/png": "[encoded data removed]"
          },
          "metadata": {}
        }
      ],
      "source": [
        "import numpy as np\n",
        "import matplotlib.pyplot as plt\n",
        "from matplotlib.colors import ListedColormap\n",
        "\n",
        "\n",
        "#マルチレイヤーネットワーク\n",
        "\n",
        "def DateSets(y=[0,1,1,1],N=50,loc=0,scale=0.05):\n",
        "\n",
        "  #N=10         データのサイズ\n",
        "  #loc          平均\n",
        "  #scale=0.05   標準偏差\n",
        "\n",
        "  X_=np.array([[0,0],[0,1],[1,0],[1,1]])#学習用データ\n",
        "\n",
        "  #元のデータにノイズを足す。\n",
        "  X0=X_[0]+np.random.normal(size=(N,2),loc=loc,scale=scale)\n",
        "  X1=X_[1]+np.random.normal(size=(N,2),loc=loc,scale=scale)\n",
        "  X2=X_[2]+np.random.normal(size=(N,2),loc=loc,scale=scale)\n",
        "  X3=X_[3]+np.random.normal(size=(N,2),loc=loc,scale=scale)\n",
        "  X=np.concatenate((X0,X1,X2,X3))   #データを結合する。\n",
        "\n",
        "  #正解ラベル\n",
        "  y0=np.full(N,y[0])\n",
        "  y1=np.full(N,y[1])\n",
        "  y2=np.full(N,y[2])\n",
        "  y3=np.full(N,y[3])\n",
        "  y=np.concatenate((y0,y1,y2,y3))   #データを結合する\n",
        "\n",
        "  return X,y\n",
        "\n",
        "def Plot(X,y,c=['red','blue','green','orange']):\n",
        "  #データをプロットする。\n",
        "  n=y.max()\n",
        "  for k in range(n+1):\n",
        "    plt.scatter(X[y==k,0],X[y==k,1],c=c[k]);\n",
        "\n",
        "def decision_regions(x,y,model):\n",
        "\n",
        "  #平面を分割する。\n",
        "\n",
        "  #カラーマップの準備\n",
        "  colors=['red','blue','green','orange']\n",
        "  cmap=ListedColormap(colors[:len(np.unique(y))])\n",
        "\n",
        "  #グリッドの作成\n",
        "  x1=np.arange(-0.2,1.2,0.02)   #横軸\n",
        "  x2=np.arange(-0.2,1.2,0.02)   #縦軸\n",
        "  xx1,xx2=np.meshgrid(x1,x2)    #メッシュ\n",
        "  z=np.array([xx1.ravel(),xx2.ravel()]).T   #座標点の作成\n",
        "\n",
        "  Z=model(z).reshape(xx1.shape)   #各座標点を分類する\n",
        "\n",
        "  Plot(x,y,c=colors) #データをプロットする。\n",
        "\n",
        "  plt.contourf(xx1,xx2,Z,alpha=0.2,cmap=cmap) #平面の分割\n",
        "  plt.show()\n",
        "\n",
        "\n",
        "\n",
        "\n",
        "class Perceptron:\n",
        "\n",
        "  def __init__(self):\n",
        "\n",
        "    #コンストラクタ\n",
        "\n",
        "    self.W=np.random.randn(2,)   #重みの初期化\n",
        "    self.b=0      #バイアスの初期化\n",
        "\n",
        "    self.x=None   #入力データの保存\n",
        "\n",
        "  def forward(self,x):\n",
        "\n",
        "    #順伝播\n",
        "\n",
        "    a=np.matmul(x,self.W)+self.b  #アフィン変換\n",
        "\n",
        "    self.x=x  #入力データを保存\n",
        "\n",
        "    y=(a>0)*1 #ステップ関数\n",
        "\n",
        "    return y\n",
        "\n",
        "  def backward(self,delta):\n",
        "\n",
        "    #逆伝播\n",
        "\n",
        "    #勾配を計算\n",
        "    dW=np.matmul(self.x.T,delta)\n",
        "    db=np.sum(delta,axis=0)\n",
        "\n",
        "    #重みとバイアスの更新\n",
        "    self.W-=0.1*dW\n",
        "    self.b-=0.1*db\n",
        "    return None\n",
        "\n",
        "  def fit(self,x,t,epochs=100):\n",
        "\n",
        "    #学習\n",
        "\n",
        "    for __ in range(epochs):\n",
        "      y=self.forward(x)   #予測\n",
        "      delta=y-t           #誤差\n",
        "      self.backward(delta)  #重みとバイアスを更新\n",
        "\n",
        "    return None\n",
        "\n",
        "  def predict(self,x):\n",
        "    #予測\n",
        "    return self.forward(x)\n",
        "\n",
        "  def __call__(self,x):\n",
        "    return self.predict(x)\n",
        "\n",
        "\n",
        "X,y=DateSets(y=[0,1,1,1],N=5)\n",
        "\n",
        "\n",
        "model=Perceptron()    #インスタンス化\n",
        "\n",
        "model.fit(X,y)    #学習\n",
        "\n",
        "pred=model(X)   #学習結果の確認\n",
        "\n",
        "\n",
        "Plot(X,y)\n",
        "decision_regions(X,y,model)\n",
        "\n",
        "\n"
      ]
    },
    {
      "cell_type": "markdown",
      "source": [],
      "metadata": {
        "id": "plEmTDFtKIyu"
      }
    },
    {
      "cell_type": "code",
      "source": [],
      "metadata": {
        "id": "TXJMi6g6m8n1"
      },
      "execution_count": null,
      "outputs": []
    }
  ]
}